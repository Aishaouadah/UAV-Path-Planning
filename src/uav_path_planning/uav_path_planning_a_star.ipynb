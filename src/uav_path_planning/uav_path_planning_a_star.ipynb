{
 "cells": [
  {
   "cell_type": "markdown",
   "metadata": {},
   "source": [
    "# Solving the UAV Path Planning Problem using A*"
   ]
  },
  {
   "cell_type": "code",
   "execution_count": 1,
   "metadata": {},
   "outputs": [],
   "source": [
    "## Defining G,H and F functions\n",
    "\n",
    "#G cost = distance from starting node\n",
    "#H cost = distance from end node\n",
    "#F cost = G cost + H cost \n",
    "#we choose the node with least F cost , when F is equal we check H \n",
    "\n",
    "## Defining Input, Output\n",
    "\n",
    "#INPUT : OccupancyGrid(matrix with 1:free 0:occupied), start(state : x,y), goal(x,y)\n",
    "#OUTPUT : path (sequence of states (x,y))"
   ]
  },
  {
   "cell_type": "markdown",
   "metadata": {},
   "source": [
    "## Pseudo code"
   ]
  },
  {
   "cell_type": "code",
   "execution_count": 2,
   "metadata": {},
   "outputs": [
    {
     "data": {
      "text/plain": [
       "'\\nList OPEN: nodes to be evaluated \\nList CLOSED : nodes already evaluted \\nadd the start node to OPEN\\nloop\\n  current = node is OPEN with the lowest f_cost\\n  remove current from OPEN\\n  add current to CLOSED\\n  if current is the target node\\n    return\\nfor each neighbour of the current node\\n    if neighbour is not traversable or neighbour is in CLOSED\\n        skip to the next neighbour\\n    if new path to neighbor is shorter or neighbour is not in OPEN\\n        set f_cost to neighbour\\n        set parent of neighbour to current\\n        if neighbour is not in OPEN\\n            add neighbour to OPEN\\n'"
      ]
     },
     "execution_count": 2,
     "metadata": {},
     "output_type": "execute_result"
    }
   ],
   "source": [
    "'''\n",
    "List OPEN: nodes to be evaluated \n",
    "List CLOSED : nodes already evaluted \n",
    "add the start node to OPEN\n",
    "loop\n",
    "  current = node is OPEN with the lowest f_cost\n",
    "  remove current from OPEN\n",
    "  add current to CLOSED\n",
    "  if current is the target node\n",
    "    return\n",
    "for each neighbour of the current node\n",
    "    if neighbour is not traversable or neighbour is in CLOSED\n",
    "        skip to the next neighbour\n",
    "    if new path to neighbor is shorter or neighbour is not in OPEN\n",
    "        set f_cost to neighbour\n",
    "        set parent of neighbour to current\n",
    "        if neighbour is not in OPEN\n",
    "            add neighbour to OPEN\n",
    "'''"
   ]
  },
  {
   "cell_type": "code",
   "execution_count": 3,
   "metadata": {},
   "outputs": [],
   "source": [
    "# Importing libraries\n",
    "import reading_benchmark  as rb\n",
    "import cv2 as cv\n",
    "import utils as ut\n",
    "import pathfinding\n",
    "import os\n",
    "from pathfinding.core.diagonal_movement import DiagonalMovement\n",
    "from pathfinding.core.grid import Grid\n",
    "from pathfinding.finder.a_star import AStarFinder\n",
    "\n"
   ]
  },
  {
   "cell_type": "markdown",
   "metadata": {},
   "source": [
    "## A Star"
   ]
  },
  {
   "cell_type": "code",
   "execution_count": 4,
   "metadata": {},
   "outputs": [],
   "source": [
    "\n",
    "# colors \n",
    "# grey scale: 0 , 229 , 99 -> black , grey , grey (obstacle)\n",
    "\n",
    "def Astar(img_path,start,end):\n",
    "    image=cv.imread(img_path,0)\n",
    "    rows,cols=(1073,1073)    \n",
    "    # image (grey scale) to a matrix of 0 and 1 \n",
    "    for i in range(rows):\n",
    "        for j in range(cols):\n",
    "            if image[i,j] == 0 or image[i,j] == 99: \n",
    "                image[i,j] = 0 #obstacle\n",
    "            elif image[i,j] == 229:\n",
    "                image[i,j] = 1\n",
    "    \n",
    "    grid = Grid(matrix=image)\n",
    "    start = grid.node(start[0],start[1])\n",
    "    end = grid.node(end[0],end[1])\n",
    "    finder = AStarFinder(diagonal_movement=DiagonalMovement.always)\n",
    "    path, runs = finder.find_path(start, end, grid)\n",
    "\n",
    "    #Saving results in file\n",
    "    file_path = '/home/aisha/PFE/implementations/UAV-Path-planning/src/tests/output/'\n",
    "    with open(os.path.join(file_path , 'myfile.txt'),\"w\") as file:\n",
    "        matrix_path=grid.grid_str(path=path, start=start, end=end)\n",
    "        file.write(matrix_path)\n",
    "            \n",
    "    #Draw path in the image and save it\n",
    "    image=cv.imread(img_path)\n",
    "    new_image = ut.draw_path(image,path)\n",
    "    saving_path = '/home/aisha/PFE/implementations/UAV-Path-planning/src/tests/output/'\n",
    "    cv.imwrite(os.path.join(saving_path , 'new_image.png'), new_image)\n"
   ]
  },
  {
   "cell_type": "code",
   "execution_count": 5,
   "metadata": {},
   "outputs": [],
   "source": [
    "\n",
    "#TEST \n",
    "img_path = \"/home/aisha/PFE/implementations/UAV-Path-planning/data/room-png/64room_000.png\"\n",
    "start = (10, 200)\n",
    "end = (90, 1009)\n",
    "Astar(img_path,start,end)\n"
   ]
  }
 ],
 "metadata": {
  "kernelspec": {
   "display_name": "Python 3.10.4 64-bit",
   "language": "python",
   "name": "python3"
  },
  "language_info": {
   "codemirror_mode": {
    "name": "ipython",
    "version": 3
   },
   "file_extension": ".py",
   "mimetype": "text/x-python",
   "name": "python",
   "nbconvert_exporter": "python",
   "pygments_lexer": "ipython3",
   "version": "3.10.4"
  },
  "orig_nbformat": 4,
  "vscode": {
   "interpreter": {
    "hash": "31f2aee4e71d21fbe5cf8b01ff0e069b9275f58929596ceb00d14d90e3e16cd6"
   }
  }
 },
 "nbformat": 4,
 "nbformat_minor": 2
}

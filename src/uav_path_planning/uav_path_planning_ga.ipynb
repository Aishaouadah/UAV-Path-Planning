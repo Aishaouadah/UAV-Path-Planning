{
 "cells": [
  {
   "cell_type": "code",
   "execution_count": null,
   "metadata": {},
   "outputs": [],
   "source": [
    "# reading file input\n",
    "import random \n",
    "import math\n",
    "import import_ipynb\n",
    "import ReadingBenchmark "
   ]
  },
  {
   "cell_type": "markdown",
   "metadata": {},
   "source": [
    "#### 1- initialize the entire population"
   ]
  },
  {
   "cell_type": "code",
   "execution_count": null,
   "metadata": {},
   "outputs": [],
   "source": [
    "def initial_population(population_size):\n",
    "    start,end=0\n",
    "    for _ in range(1, population_size+1):\n",
    "        generatePossiblePath(start,end)\n",
    "\n",
    "    \n",
    "def generatePossiblePath(start, end):\n",
    "    print(\"possible path\")        \n",
    "    "
   ]
  },
  {
   "cell_type": "code",
   "execution_count": null,
   "metadata": {},
   "outputs": [],
   "source": [
    "def plot_data(path, room):\n",
    "    pass \n",
    "    pink = (209, 77, 255)\n",
    "\n",
    "#REWRRITE THIS         \n",
    "\n"
   ]
  },
  {
   "cell_type": "markdown",
   "metadata": {},
   "source": [
    "#### Repeat : \n",
    "**2- Selection**\n"
   ]
  },
  {
   "cell_type": "code",
   "execution_count": null,
   "metadata": {},
   "outputs": [],
   "source": [
    "#Selecting parents\n",
    "def selection():\n",
    "    print(\"selection done\")"
   ]
  },
  {
   "cell_type": "markdown",
   "metadata": {},
   "source": [
    "**3- Crossover**"
   ]
  },
  {
   "cell_type": "code",
   "execution_count": null,
   "metadata": {},
   "outputs": [],
   "source": [
    "def crossover():\n",
    "    print(\"crossover done\")"
   ]
  },
  {
   "cell_type": "markdown",
   "metadata": {},
   "source": [
    "**4- mutation**"
   ]
  },
  {
   "cell_type": "code",
   "execution_count": null,
   "metadata": {},
   "outputs": [],
   "source": [
    "def mutation():\n",
    "    print(\"mutation done\")"
   ]
  },
  {
   "cell_type": "markdown",
   "metadata": {},
   "source": [
    "**4- evaluation**"
   ]
  },
  {
   "cell_type": "code",
   "execution_count": null,
   "metadata": {},
   "outputs": [],
   "source": [
    "'''Fitness function: function that evaluate a solution\n",
    "    in TSP the Fitness function is the path length  '''\n",
    "    #soltuion = \"014523\"\n",
    "    #fitness = length(0,1)+length(1,4)+length(4,5)+length(5,2)+length(2,3)\n",
    "\n",
    "def euclidean_distance(node1, node2):\n",
    "    return math.sqrt((node1.x - node2.x)**2 + (node1.y - node2.y)**2)\n",
    "\n",
    "def manhattan_distance(node1, node2):\n",
    "    return abs(node1.x - node2.x) + abs(node1.y - node2.y)\n",
    "    \n",
    "\n",
    "def fitness(solution):\n",
    "    f=0\n",
    "    l=len(solution)\n",
    "    for i in range(l-1):\n",
    "        f+=euclidean_distance(solution[i], solution[i+1])\n",
    "    return f\n",
    "\n",
    "\n",
    "def evaluate_population(population):\n",
    "    evaluation =[]\n",
    "    for element in population:\n",
    "        evaluation.append(fitness(element))\n"
   ]
  },
  {
   "cell_type": "code",
   "execution_count": null,
   "metadata": {},
   "outputs": [],
   "source": [
    "def getBestSolution(population):\n",
    "    return max(evaluate_population(population))"
   ]
  },
  {
   "cell_type": "markdown",
   "metadata": {},
   "source": [
    "**5-inssertion**"
   ]
  },
  {
   "cell_type": "code",
   "execution_count": null,
   "metadata": {},
   "outputs": [],
   "source": [
    "def insertion():\n",
    "    print(\"insertion done\")"
   ]
  },
  {
   "cell_type": "markdown",
   "metadata": {},
   "source": [
    "# Genetic Algorithm"
   ]
  },
  {
   "cell_type": "code",
   "execution_count": null,
   "metadata": {},
   "outputs": [],
   "source": [
    "#Parameters :\n",
    "problem_size = 100\n",
    "population_size = 20\n",
    "chromosome_size = 20\n",
    "mutation_proba = 0.5\n",
    "crossover_proba = \"NA\"\n",
    "selection_operator = \"Roulette_wheel_operator\"\n",
    "crossover_operator = \"Singlepoint crossover\"\n",
    "mutation_operator = \"Flip/swap bit\"\n",
    "\n",
    "ReadingBenchmark.read_images(\"data/room-png\")"
   ]
  }
 ],
 "metadata": {
  "interpreter": {
   "hash": "916dbcbb3f70747c44a77c7bcd40155683ae19c65e1c03b4aa3499c5328201f1"
  },
  "kernelspec": {
   "display_name": "Python 3.8.10 64-bit",
   "language": "python",
   "name": "python3"
  },
  "language_info": {
   "codemirror_mode": {
    "name": "ipython",
    "version": 3
   },
   "file_extension": ".py",
   "mimetype": "text/x-python",
   "name": "python",
   "nbconvert_exporter": "python",
   "pygments_lexer": "ipython3",
   "version": "3.8.10"
  },
  "orig_nbformat": 4
 },
 "nbformat": 4,
 "nbformat_minor": 2
}

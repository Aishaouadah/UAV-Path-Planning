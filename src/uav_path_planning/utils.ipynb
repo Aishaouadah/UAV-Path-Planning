{
 "cells": [
  {
   "cell_type": "code",
   "execution_count": 19,
   "metadata": {},
   "outputs": [],
   "source": [
    "import networkx as nx\n",
    "import matplotlib.pyplot as plt\n",
    "import cv2 as cv\n",
    "import numpy as np"
   ]
  },
  {
   "cell_type": "code",
   "execution_count": 7,
   "metadata": {},
   "outputs": [],
   "source": [
    "def image_none(img_path):\n",
    "    image=cv.imread(img_path)\n",
    "    return image"
   ]
  },
  {
   "cell_type": "code",
   "execution_count": 11,
   "metadata": {},
   "outputs": [],
   "source": [
    "\n",
    "def show_image(image):\n",
    "    cv.imshow('image', image) \n",
    "    cv.waitKey(0)\n",
    "    cv.destroyAllWindows()\n",
    "\n",
    "#TEST\n",
    "#img_path = \"/home/aisha/PFE/implementations/UAV-Path-planning/data/room-png/8room_000.png\"\n",
    "#image=image_none(img_path)\n",
    "#if image is not None:\n",
    "#    show_image(image)\n"
   ]
  },
  {
   "cell_type": "code",
   "execution_count": null,
   "metadata": {},
   "outputs": [],
   "source": []
  },
  {
   "cell_type": "code",
   "execution_count": 25,
   "metadata": {},
   "outputs": [],
   "source": [
    "# COLORING PIXELS \n",
    "\n",
    "def coloring_pixel(image,color,pixel):\n",
    "    if image is  not None:\n",
    "        image[pixel[0],pixel[1]]=color\n",
    "        return image\n",
    "        \n",
    "#TEST \n",
    "#color = [255, 0, 0]\n",
    "#pixel=[0,2] \n",
    "#img_path = \"/home/aisha/PFE/implementations/UAV-Path-planning/data/room-png/8room_000.png\"\n",
    "# coloring_pixel(img_path,color,pixel)\n",
    "\n"
   ]
  },
  {
   "cell_type": "code",
   "execution_count": 27,
   "metadata": {},
   "outputs": [
    {
     "name": "stdout",
     "output_type": "stream",
     "text": [
      "[229 229 229]\n",
      "[229 229 229]\n"
     ]
    }
   ],
   "source": [
    "# define start and goal != of black and green (old color == white)\n",
    "def define_start_goal(image,start,goal):\n",
    "    start_color = [255, 0, 102] #pink \n",
    "    goal_color =  [0, 0, 204] #blue\n",
    "    if image is not None:\n",
    "        # should not be obstacle \n",
    "        if np.array_equal(image[start[0],start[1]],[229, 229, 229]) and np.array_equal(image[goal[0],goal[1]],[229, 229, 229]):\n",
    "            image = coloring_pixel(image,start_color,start)\n",
    "            image = coloring_pixel(image,goal_color,goal) \n",
    "            return image\n",
    "        else: \n",
    "            print(\"Goal or Start is an obstacle, Redefine it!\")\n",
    "            return image\n",
    "\n",
    "#TEST \n",
    "\n",
    "#start = [123, 12]\n",
    "#goal = [125, 122]\n",
    "#img_path = \"/home/aisha/PFE/implementations/UAV-Path-planning/data/room-png/8room_000.png\"\n",
    "# image = image_none(img_path)\n",
    "# print(image[start[0],start[1]])\n",
    "# print(image[goal[0],goal[1]])\n",
    "# show_image(define_start_goal(image,start,goal))\n",
    "\n"
   ]
  }
 ],
 "metadata": {
  "kernelspec": {
   "display_name": "Python 3.8.10 64-bit",
   "language": "python",
   "name": "python3"
  },
  "language_info": {
   "codemirror_mode": {
    "name": "ipython",
    "version": 3
   },
   "file_extension": ".py",
   "mimetype": "text/x-python",
   "name": "python",
   "nbconvert_exporter": "python",
   "pygments_lexer": "ipython3",
   "version": "3.8.10"
  },
  "orig_nbformat": 4,
  "vscode": {
   "interpreter": {
    "hash": "916dbcbb3f70747c44a77c7bcd40155683ae19c65e1c03b4aa3499c5328201f1"
   }
  }
 },
 "nbformat": 4,
 "nbformat_minor": 2
}

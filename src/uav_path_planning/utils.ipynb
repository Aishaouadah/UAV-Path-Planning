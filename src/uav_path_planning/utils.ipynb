{
 "cells": [
  {
   "cell_type": "code",
   "execution_count": 19,
   "metadata": {},
   "outputs": [],
   "source": [
    "import networkx as nx\n",
    "import matplotlib.pyplot as plt\n",
    "import cv2 as cv"
   ]
  },
  {
   "cell_type": "code",
   "execution_count": 20,
   "metadata": {},
   "outputs": [
    {
     "name": "stdout",
     "output_type": "stream",
     "text": [
      "(1073, 1073, 3)\n"
     ]
    }
   ],
   "source": [
    "\n",
    "def show_image(img_path):\n",
    "    image=cv.imread(img_path)\n",
    "    print(image.shape) \n",
    "    if image is None:\n",
    "        print(\"image vide\")\n",
    "    else:\n",
    "        cv.imshow('image', image) \n",
    "        cv.waitKey(0)\n",
    "        cv.destroyAllWindows()\n",
    "\n",
    "#TEST\n",
    "img_path = \"/home/aisha/PFE/implementations/UAV-Path-planning/data/room-png/8room_000.png\"\n",
    "show_image(img_path)\n"
   ]
  },
  {
   "cell_type": "code",
   "execution_count": 23,
   "metadata": {},
   "outputs": [
    {
     "name": "stdout",
     "output_type": "stream",
     "text": [
      "(1073, 1073, 3)\n"
     ]
    }
   ],
   "source": [
    "# COLORING PIXELS \n",
    "\n",
    "def coloring_pixel(img_path,color,path):\n",
    "    image=cv.imread(img_path)\n",
    "    print(image.shape)\n",
    "    if image is None:\n",
    "        print(\"image vide\")\n",
    "    else:\n",
    "        for i in range(path):\n",
    "            for j in range(path):\n",
    "                image[i,j]=color\n",
    "\n",
    "        cv.imshow('image', image) \n",
    "        cv.waitKey(0)\n",
    "        cv.destroyAllWindows()\n",
    "#TEST \n",
    "color = [255, 0, 0]\n",
    "path=30\n",
    "img_path = \"/home/aisha/PFE/implementations/UAV-Path-planning/data/room-png/8room_000.png\"\n",
    "coloring_pixel(img_path,color)\n",
    "\n"
   ]
  }
 ],
 "metadata": {
  "kernelspec": {
   "display_name": "Python 3.8.10 64-bit",
   "language": "python",
   "name": "python3"
  },
  "language_info": {
   "name": "python",
   "version": "3.8.10"
  },
  "orig_nbformat": 4,
  "vscode": {
   "interpreter": {
    "hash": "916dbcbb3f70747c44a77c7bcd40155683ae19c65e1c03b4aa3499c5328201f1"
   }
  }
 },
 "nbformat": 4,
 "nbformat_minor": 2
}

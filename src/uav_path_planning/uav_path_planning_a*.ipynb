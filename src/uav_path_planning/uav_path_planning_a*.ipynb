{
 "cells": [
  {
   "cell_type": "markdown",
   "metadata": {},
   "source": [
    "# Solving the UAV Path Planning Problem using A*"
   ]
  },
  {
   "cell_type": "code",
   "execution_count": 39,
   "metadata": {},
   "outputs": [],
   "source": [
    "## Defining G,H and F functions\n",
    "\n",
    "#G cost = distance from starting node\n",
    "#H cost = distance from end node\n",
    "#F cost = G cost + H cost \n",
    "#we choose the node with least F cost , when F is equal we check H \n",
    "\n",
    "## Defining Input, Output\n",
    "\n",
    "#INPUT : OccupancyGrid(matrix with 0:free 1:occupied), start(state : x,y), goal(x,y)\n",
    "#OUTPUT : path (sequence of states (x,y,orientation))"
   ]
  },
  {
   "cell_type": "markdown",
   "metadata": {},
   "source": [
    "## Pseudo code"
   ]
  },
  {
   "cell_type": "code",
   "execution_count": 40,
   "metadata": {},
   "outputs": [
    {
     "data": {
      "text/plain": [
       "'\\nList OPEN: nodes to be evaluated \\nList CLOSED : nodes already evaluted \\nadd the start node to OPEN\\nloop\\n  current = node is OPEN with the lowest f_cost\\n  remove current from OPEN\\n  add current to CLOSED\\n  if current is the target node\\n    return\\nfor each neighbour of the current node\\n    if neighbour is not traversable or neighbour is in CLOSED\\n        skip to the next neighbour\\n    if new path to neighbor is shorter or neighbour is not in OPEN\\n        set f_cost to neighbour\\n        set parent of neighbour to current\\n        if neighbour is not in OPEN\\n            add neighbour to OPEN\\n'"
      ]
     },
     "execution_count": 40,
     "metadata": {},
     "output_type": "execute_result"
    }
   ],
   "source": [
    "'''\n",
    "List OPEN: nodes to be evaluated \n",
    "List CLOSED : nodes already evaluted \n",
    "add the start node to OPEN\n",
    "loop\n",
    "  current = node is OPEN with the lowest f_cost\n",
    "  remove current from OPEN\n",
    "  add current to CLOSED\n",
    "  if current is the target node\n",
    "    return\n",
    "for each neighbour of the current node\n",
    "    if neighbour is not traversable or neighbour is in CLOSED\n",
    "        skip to the next neighbour\n",
    "    if new path to neighbor is shorter or neighbour is not in OPEN\n",
    "        set f_cost to neighbour\n",
    "        set parent of neighbour to current\n",
    "        if neighbour is not in OPEN\n",
    "            add neighbour to OPEN\n",
    "'''"
   ]
  },
  {
   "cell_type": "code",
   "execution_count": 41,
   "metadata": {},
   "outputs": [],
   "source": [
    "# Importing libraries\n",
    "import reading_benchmark  as rb\n",
    "import cv2 as cv\n",
    "import utils as ut\n",
    "import pathfinding\n",
    "import os\n",
    "from pathfinding.core.diagonal_movement import DiagonalMovement\n",
    "from pathfinding.core.grid import Grid\n",
    "from pathfinding.finder.a_star import AStarFinder\n",
    "\n"
   ]
  },
  {
   "cell_type": "markdown",
   "metadata": {},
   "source": [
    "## A Star"
   ]
  },
  {
   "cell_type": "code",
   "execution_count": 42,
   "metadata": {},
   "outputs": [
    {
     "data": {
      "text/plain": [
       "'\\nOccupancyGrid  n*m matrix (with 0,1)\\nmoving up,down,right,left: cost is 1\\nmoving rightUp,rightDown,leftUp,leftDown: cost is 1,4 (sqrt(2))\\n'"
      ]
     },
     "execution_count": 42,
     "metadata": {},
     "output_type": "execute_result"
    }
   ],
   "source": [
    "'''\n",
    "OccupancyGrid  n*m matrix (with 0,1)\n",
    "moving up,down,right,left: cost is 1\n",
    "moving rightUp,rightDown,leftUp,leftDown: cost is 1,4 (sqrt(2))\n",
    "'''"
   ]
  },
  {
   "cell_type": "code",
   "execution_count": 43,
   "metadata": {},
   "outputs": [
    {
     "name": "stdout",
     "output_type": "stream",
     "text": [
      "operations: 367 path length: 81\n",
      "path: [(10, 20), (11, 20), (12, 20), (13, 20), (14, 20), (15, 20), (16, 20), (17, 20), (18, 20), (19, 20), (20, 20), (21, 20), (22, 20), (23, 20), (24, 20), (25, 20), (26, 20), (27, 20), (28, 20), (29, 20), (30, 20), (31, 20), (32, 20), (33, 20), (34, 20), (35, 20), (36, 20), (37, 20), (38, 20), (39, 20), (40, 20), (41, 19), (42, 18), (43, 18), (44, 17), (45, 16), (46, 15), (47, 14), (48, 13), (49, 12), (50, 11), (51, 11), (52, 11), (53, 11), (54, 11), (55, 11), (56, 11), (57, 11), (58, 11), (59, 10), (60, 10), (61, 10), (62, 10), (63, 10), (64, 10), (65, 10), (66, 10), (67, 10), (68, 10), (69, 10), (70, 10), (71, 10), (72, 10), (73, 10), (74, 10), (75, 10), (76, 10), (77, 10), (78, 10), (79, 10), (80, 10), (81, 10), (82, 10), (83, 10), (84, 10), (85, 10), (86, 10), (87, 10), (88, 10), (89, 10), (90, 10)]\n"
     ]
    }
   ],
   "source": [
    "\n",
    "\n",
    "# colors \n",
    "# grey scale: 0 , 229 , 99 -> black , grey , grey (obstacle)\n",
    "\n",
    "img_path = \"/home/aisha/PFE/implementations/UAV-Path-planning/data/room-png/64room_000.png\"\n",
    "image=cv.imread(img_path,0)\n",
    "\n",
    "\n",
    "# matrix\n",
    "# 0 describes an obstacle.\n",
    "# image (grey scale) to a matrix of 0 and 1 \n",
    "rows, cols = (1073, 1073)\n",
    "matrix = [[0]*cols]*rows\n",
    "\n",
    "for i in range(rows):\n",
    "    for j in range(cols):\n",
    "        if image[i,j] == 0 or image[i,j] == 99: \n",
    "            matrix[i][j] = 1 #obstacle\n",
    "        elif image[i,j] == 229:\n",
    "            matrix[i][j] = 0\n",
    "#print(matrix)\n",
    "#utils.show_image(image)\n",
    "\n",
    "\n",
    "grid = Grid(matrix=matrix)\n",
    "start = grid.node(10, 20)\n",
    "end = grid.node(90, 10)\n",
    "\n",
    "finder = AStarFinder(diagonal_movement=DiagonalMovement.always)\n",
    "path, runs = finder.find_path(start, end, grid)\n",
    "\n",
    "file_path = '/home/aisha/PFE/implementations/UAV-Path-planning/src/tests/output/'\n",
    "\n",
    "\n",
    "with open(os.path.join(file_path , 'myfile.txt'),\"w\") as file:\n",
    "    matrix_path=grid.grid_str(path=path, start=start, end=end)\n",
    "    file.write(matrix_path)\n",
    "\n",
    "\n",
    "print('operations:', runs, 'path length:', len(path))\n",
    "print('path:' , path) # path is a list of tuples\n",
    "\n"
   ]
  },
  {
   "cell_type": "code",
   "execution_count": 44,
   "metadata": {},
   "outputs": [
    {
     "name": "stdout",
     "output_type": "stream",
     "text": [
      "(10, 20)\n",
      "(11, 20)\n",
      "(12, 20)\n",
      "(13, 20)\n",
      "(14, 20)\n",
      "(15, 20)\n",
      "(16, 20)\n",
      "(17, 20)\n",
      "(18, 20)\n",
      "(19, 20)\n",
      "(20, 20)\n",
      "(21, 20)\n",
      "(22, 20)\n",
      "(23, 20)\n",
      "(24, 20)\n",
      "(25, 20)\n",
      "(26, 20)\n",
      "(27, 20)\n",
      "(28, 20)\n",
      "(29, 20)\n",
      "(30, 20)\n",
      "(31, 20)\n",
      "(32, 20)\n",
      "(33, 20)\n",
      "(34, 20)\n",
      "(35, 20)\n",
      "(36, 20)\n",
      "(37, 20)\n",
      "(38, 20)\n",
      "(39, 20)\n",
      "(40, 20)\n",
      "(41, 19)\n",
      "(42, 18)\n",
      "(43, 18)\n",
      "(44, 17)\n",
      "(45, 16)\n",
      "(46, 15)\n",
      "(47, 14)\n",
      "(48, 13)\n",
      "(49, 12)\n",
      "(50, 11)\n",
      "(51, 11)\n",
      "(52, 11)\n",
      "(53, 11)\n",
      "(54, 11)\n",
      "(55, 11)\n",
      "(56, 11)\n",
      "(57, 11)\n",
      "(58, 11)\n",
      "(59, 10)\n",
      "(60, 10)\n",
      "(61, 10)\n",
      "(62, 10)\n",
      "(63, 10)\n",
      "(64, 10)\n",
      "(65, 10)\n",
      "(66, 10)\n",
      "(67, 10)\n",
      "(68, 10)\n",
      "(69, 10)\n",
      "(70, 10)\n",
      "(71, 10)\n",
      "(72, 10)\n",
      "(73, 10)\n",
      "(74, 10)\n",
      "(75, 10)\n",
      "(76, 10)\n",
      "(77, 10)\n",
      "(78, 10)\n",
      "(79, 10)\n",
      "(80, 10)\n",
      "(81, 10)\n",
      "(82, 10)\n",
      "(83, 10)\n",
      "(84, 10)\n",
      "(85, 10)\n",
      "(86, 10)\n",
      "(87, 10)\n",
      "(88, 10)\n",
      "(89, 10)\n",
      "(90, 10)\n"
     ]
    },
    {
     "data": {
      "text/plain": [
       "True"
      ]
     },
     "execution_count": 44,
     "metadata": {},
     "output_type": "execute_result"
    }
   ],
   "source": [
    "\n",
    "img_path = \"/home/aisha/PFE/implementations/UAV-Path-planning/data/room-png/64room_000.png\"\n",
    "image=cv.imread(img_path)\n",
    "\n",
    "\n",
    "new_image = ut.draw_path(image,path)\n",
    "#ut.show_image(new_image)\n",
    "\n",
    "saving_path = '/home/aisha/PFE/implementations/UAV-Path-planning/src/tests/output/'\n",
    "cv.imwrite(os.path.join(saving_path , 'new_image.png'), new_image)\n",
    "\n",
    "    \n",
    "# problem ta3 obstacles (0,1) matrix\n",
    "#  path (image) != path (output file) (ma9loub) :')  -> (0,1) matrix ou i , j "
   ]
  }
 ],
 "metadata": {
  "kernelspec": {
   "display_name": "Python 3.10.4 64-bit",
   "language": "python",
   "name": "python3"
  },
  "language_info": {
   "codemirror_mode": {
    "name": "ipython",
    "version": 3
   },
   "file_extension": ".py",
   "mimetype": "text/x-python",
   "name": "python",
   "nbconvert_exporter": "python",
   "pygments_lexer": "ipython3",
   "version": "3.10.4"
  },
  "orig_nbformat": 4,
  "vscode": {
   "interpreter": {
    "hash": "31f2aee4e71d21fbe5cf8b01ff0e069b9275f58929596ceb00d14d90e3e16cd6"
   }
  }
 },
 "nbformat": 4,
 "nbformat_minor": 2
}

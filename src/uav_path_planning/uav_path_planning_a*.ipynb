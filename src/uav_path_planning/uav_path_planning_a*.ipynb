{
 "cells": [
  {
   "cell_type": "markdown",
   "metadata": {},
   "source": [
    "# Solving the UAV Path Planning Problem using A*"
   ]
  },
  {
   "cell_type": "code",
   "execution_count": null,
   "metadata": {},
   "outputs": [],
   "source": [
    "## Defining G,H and F functions\n",
    "\n",
    "#G cost = distance from starting node\n",
    "#H cost = distance from end node\n",
    "#F cost = G cost + H cost \n",
    "#we choose the node with least F cost , when F is equal we check H \n",
    "\n",
    "## Defining Input, Output\n",
    "\n",
    "#INPUT : OccupancyGrid(matrix with 0:free 1:occupied), start(state : x,y), goal(x,y)\n",
    "#OUTPUT : path (sequence of states (x,y,orientation))"
   ]
  },
  {
   "cell_type": "markdown",
   "metadata": {},
   "source": [
    "## Pseudo Algo"
   ]
  },
  {
   "cell_type": "code",
   "execution_count": null,
   "metadata": {},
   "outputs": [],
   "source": [
    "'''\n",
    "List OPEN: nodes to be evaluated \n",
    "List CLOSED : nodes already evaluted \n",
    "add the start node to OPEN\n",
    "loop\n",
    "  current = node is OPEN with the lowest f_cost\n",
    "  remove current from OPEN\n",
    "  add current to CLOSED\n",
    "  if current is the target node\n",
    "    return\n",
    "for each neighbour of the current node\n",
    "    if neighbour is not traversable or neighbour is in CLOSED\n",
    "        skip to the next neighbour\n",
    "    if new path to neighbor is shorter or neighbour is not in OPEN\n",
    "        set f_cost to neighbour\n",
    "        set parent of neighbour to current\n",
    "        if neighbour is not in OPEN\n",
    "            add neighbour to OPEN\n",
    "'''\n",
    "\n",
    "# ORIENTATION IS NOT INCLUDED (CHECK IT USING NEIGHBOUR)"
   ]
  },
  {
   "cell_type": "code",
   "execution_count": 5,
   "metadata": {},
   "outputs": [],
   "source": [
    "# Importing libraries\n",
    "\n",
    "\n",
    "import reading_benchmark  as rb\n",
    "import cv2 as cv\n",
    "import utils as ut"
   ]
  },
  {
   "cell_type": "markdown",
   "metadata": {},
   "source": [
    "## A Star"
   ]
  },
  {
   "cell_type": "code",
   "execution_count": 2,
   "metadata": {},
   "outputs": [],
   "source": [
    "def reconstructPath(came_from,current,draw):\n",
    "    while current in came_from:\n",
    "        current = came_from[current]\n",
    "        current.make_path()\n",
    "        draw()\n",
    "\n",
    "\n",
    "def A_Star(draw, grid,start, end):\n",
    "    count = 0\n",
    "    open_set = PriorityQueue()\n",
    "    open_set.put((0, count, start))\n",
    "    came_from = {}\n",
    "\n",
    "    g_score = {cell: float(\"inf\") for row in grid for cell in row}\n",
    "    g_score[start] = 0\n",
    "    f_score = {cell: float(\"inf\") for row in grid for cell in row}\n",
    "    f_score[start] = h(start.get_pos(), end.get_pos())\n",
    "\n",
    "    open_set_hash = {start}\n",
    "\n",
    "    while not open_set.empty():\n",
    "        #Allows user to quit program while algorithm is running\n",
    "        for event in pygame.event.get():\n",
    "            if event.type == pygame.QUIT:\n",
    "                pygame.quit()\n",
    "        \n",
    "        current = open_set.get()[2]\n",
    "        open_set_hash.remove(current)\n",
    "\n",
    "        #Makes path if current cell is the end cell\n",
    "        if current == end:\n",
    "            reconstructPath(came_from, end, draw)\n",
    "            end.make_end()\n",
    "            return True\n",
    "\n",
    "        for neighbor in current.neighbors:\n",
    "            temp_g_score = g_score[current] + 1\n",
    "\n",
    "            if temp_g_score < g_score[neighbor]:\n",
    "                came_from[neighbor] = current\n",
    "                g_score[neighbor] = temp_g_score\n",
    "                f_score[neighbor] = temp_g_score + h(neighbor.get_pos(), end.get_pos())\n",
    "                if neighbor not in open_set_hash:\n",
    "                    count += 1\n",
    "                    open_set.put((f_score[neighbor], count, neighbor))\n",
    "                    open_set_hash.add(neighbor)\n",
    "                    neighbor.make_open()\n",
    "\n",
    "        draw()\n",
    "\n",
    "        if current != start:\n",
    "            current.make_close()\n",
    "            \n",
    "\n",
    "    return False \n",
    "\n",
    "##PS TRY TO INCLUDE ORIENTATION"
   ]
  },
  {
   "cell_type": "code",
   "execution_count": null,
   "metadata": {},
   "outputs": [],
   "source": [
    "'''\n",
    "OccupancyGrid  n*m matrix (with 0,1)\n",
    "moving up,down,right,left: cost is 1\n",
    "moving rightUp,rightDown,leftUp,leftDown: cost is 1,4 (sqrt(2))\n",
    "'''"
   ]
  },
  {
   "cell_type": "code",
   "execution_count": 6,
   "metadata": {},
   "outputs": [],
   "source": [
    "# Read one image room.png : Easy (Done)\n",
    "images= rb.read_images(\"/home/aisha/PFE/implementations/UAV-Path-planning/data/room-png\")\n",
    "# define start and goal cells : Easy (Done)\n",
    "\n",
    "#TEST \n",
    "\n",
    "start = [123, 12]\n",
    "goal = [125, 122]\n",
    "img_path = \"/home/aisha/PFE/implementations/UAV-Path-planning/data/room-png/8room_000.png\"\n",
    "#image = utils.image_none(img_path)\n",
    "#print(image[start[0],start[1]])\n",
    "#print(image[goal[0],goal[1]])\n",
    "image=cv.imread(img_path)\n",
    "ut.show_image(ut.define_start_goal(image,start,goal))\n",
    "\n",
    "# find the path using A* algorithm  : needs some changes \n"
   ]
  }
 ],
 "metadata": {
  "kernelspec": {
   "display_name": "Python 3.8.10 64-bit",
   "language": "python",
   "name": "python3"
  },
  "language_info": {
   "codemirror_mode": {
    "name": "ipython",
    "version": 3
   },
   "file_extension": ".py",
   "mimetype": "text/x-python",
   "name": "python",
   "nbconvert_exporter": "python",
   "pygments_lexer": "ipython3",
   "version": "3.8.10"
  },
  "orig_nbformat": 4,
  "vscode": {
   "interpreter": {
    "hash": "df0893f56f349688326838aaeea0de204df53a132722cbd565e54b24a8fec5f6"
   }
  }
 },
 "nbformat": 4,
 "nbformat_minor": 2
}

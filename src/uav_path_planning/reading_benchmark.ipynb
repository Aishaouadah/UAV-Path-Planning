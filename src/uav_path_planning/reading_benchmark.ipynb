{
 "cells": [
  {
   "cell_type": "markdown",
   "metadata": {},
   "source": [
    "# Reading MovingAI benchmarks \n",
    "*PNG,  2D Grid Benchmark* [Source](https://movingai.com/benchmarks/room/index.html) "
   ]
  },
  {
   "cell_type": "code",
   "execution_count": null,
   "metadata": {},
   "outputs": [],
   "source": [
    "# IMPORTS \n",
    "import cv2 as cv\n",
    "import os\n",
    "import numpy as np"
   ]
  },
  {
   "cell_type": "code",
   "execution_count": null,
   "metadata": {},
   "outputs": [],
   "source": [
    "# Checking colors \n",
    "image = cv.imread('room-png/16room_002.png')\n",
    "# 1073*1073*3 == 277741 + 51662 + 3124584 -> True\n",
    "#Matrix dim == 0 , 127 , 229 \n",
    "# (only 3 colors) with this 3 combinaison \n",
    "unique , counts = np.unique(image, return_counts=True)\n",
    "dict(zip(unique,counts))"
   ]
  },
  {
   "cell_type": "markdown",
   "metadata": {},
   "source": [
    "**Color spaces**\n",
    "using [RGB Calculator](https://www.w3schools.com/colors/colors_rgb.asp) \n",
    "* rgb(0, 127, 0) == Green   *obstacle*\n",
    "* rgb(0, 0, 0) == Black     *obstacle*\n",
    "* rgb(229, 229, 229) == Grey "
   ]
  },
  {
   "cell_type": "code",
   "execution_count": null,
   "metadata": {},
   "outputs": [],
   "source": [
    "\n",
    "def show_image(image):\n",
    "    \n",
    "    print(image.shape)\n",
    "    if image is None:\n",
    "        print(\"image vide\")\n",
    "    else:\n",
    "        cv.imshow('image', image) \n",
    "        cv.waitKey(0)\n",
    "        cv.destroyAllWindows()\n",
    "\n",
    "#show_image(image)\n",
    "\n",
    "\n",
    "#------------Reading all images---------------   \n",
    " \n",
    "     \n",
    "def read_images(folder):\n",
    "    images=[]\n",
    "    for filename in os.listdir(folder):\n",
    "        img = cv.imread(os.path.join(folder,filename))\n",
    "        if img is not None:\n",
    "            images.append(img)\n",
    "            \n",
    "    return images\n",
    "\n",
    "#all images have same shape (1073,1073,3)  \n",
    "\n",
    "images=read_images(\"room-png\")\n"
   ]
  },
  {
   "cell_type": "code",
   "execution_count": null,
   "metadata": {},
   "outputs": [],
   "source": [
    "print(images)\n",
    "print(len(images))"
   ]
  },
  {
   "cell_type": "markdown",
   "metadata": {},
   "source": [
    "## Representing Maps"
   ]
  },
  {
   "cell_type": "code",
   "execution_count": null,
   "metadata": {},
   "outputs": [],
   "source": [
    "def imageToGraph(image):\n",
    "    adjacency_list=[]\n",
    "    return adjacency_list"
   ]
  },
  {
   "cell_type": "code",
   "execution_count": 27,
   "metadata": {},
   "outputs": [
    {
     "name": "stdout",
     "output_type": "stream",
     "text": [
      "(1073, 1073, 3)\n"
     ]
    }
   ],
   "source": [
    "from cv2 import imread\n",
    "from sklearn.feature_extraction import image\n",
    "img = imread(\"room-png/16room_000.png\")\n",
    "for i in range(30):\n",
    "    for j in range(30):\n",
    "        img[i,j] = [255, 0, 0]\n",
    "\n",
    "show_image(img)\n",
    "#print(img)"
   ]
  },
  {
   "cell_type": "code",
   "execution_count": null,
   "metadata": {},
   "outputs": [],
   "source": [
    "# 64 room 000 to graph  -> adjacency List  -> 64 node \n",
    "\n",
    "adjacency_list = \n",
    "\n",
    "\n"
   ]
  }
 ],
 "metadata": {
  "kernelspec": {
   "display_name": "Python 3.8.10 64-bit",
   "language": "python",
   "name": "python3"
  },
  "language_info": {
   "codemirror_mode": {
    "name": "ipython",
    "version": 3
   },
   "file_extension": ".py",
   "mimetype": "text/x-python",
   "name": "python",
   "nbconvert_exporter": "python",
   "pygments_lexer": "ipython3",
   "version": "3.8.10"
  },
  "orig_nbformat": 4,
  "vscode": {
   "interpreter": {
    "hash": "916dbcbb3f70747c44a77c7bcd40155683ae19c65e1c03b4aa3499c5328201f1"
   }
  }
 },
 "nbformat": 4,
 "nbformat_minor": 2
}

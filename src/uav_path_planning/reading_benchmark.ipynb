{
 "cells": [
  {
   "cell_type": "markdown",
   "metadata": {},
   "source": [
    "# Reading MovingAI benchmarks \n",
    "*PNG,  2D Grid Benchmark* [Source](https://movingai.com/benchmarks/room/index.html) "
   ]
  },
  {
   "cell_type": "code",
   "execution_count": 1,
   "metadata": {},
   "outputs": [],
   "source": [
    "# IMPORTS \n",
    "import sys\n",
    "import cv2 as cv\n",
    "import os\n",
    "import numpy as np\n"
   ]
  },
  {
   "cell_type": "code",
   "execution_count": 2,
   "metadata": {},
   "outputs": [
    {
     "name": "stderr",
     "output_type": "stream",
     "text": [
      "[ WARN:0@0.190] global /io/opencv/modules/imgcodecs/src/loadsave.cpp (239) findDecoder imread_('room-png/16room_002.png'): can't open/read file: check file path/integrity\n"
     ]
    },
    {
     "data": {
      "text/plain": [
       "{None: 1}"
      ]
     },
     "execution_count": 2,
     "metadata": {},
     "output_type": "execute_result"
    }
   ],
   "source": [
    "# Checking colors \n",
    "image = cv.imread('room-png/16room_002.png')\n",
    "# 1073*1073*3 == 277741 + 51662 + 3124584 -> True\n",
    "#Matrix dim == 0 , 127 , 229 \n",
    "# (only 3 colors) with this 3 combinaison \n",
    "unique , counts = np.unique(image, return_counts=True)\n",
    "dict(zip(unique,counts))"
   ]
  },
  {
   "cell_type": "markdown",
   "metadata": {},
   "source": [
    "**Color spaces**\n",
    "using [RGB Calculator](https://www.w3schools.com/colors/colors_rgb.asp) \n",
    "* rgb(0, 127, 0) == Green   *obstacle*\n",
    "* rgb(0, 0, 0) == Black     *obstacle*\n",
    "* rgb(229, 229, 229) == Grey "
   ]
  },
  {
   "cell_type": "code",
   "execution_count": 3,
   "metadata": {},
   "outputs": [],
   "source": [
    "\n",
    "\n",
    "#------------Reading all images---------------   \n",
    " \n",
    "     \n",
    "def read_images(folder):\n",
    "    images=[]\n",
    "    for filename in os.listdir(folder):\n",
    "        img = cv.imread(os.path.join(folder,filename))\n",
    "        if img is not None:\n",
    "            images.append(img)\n",
    "            \n",
    "    return images\n",
    "\n",
    "#all images have same shape (1073,1073,3)  \n",
    "\n",
    "#TEST\n",
    "#images=read_images(\"/home/aisha/PFE/implementations/UAV-Path-planning/data/room-png\")"
   ]
  }
 ],
 "metadata": {
  "kernelspec": {
   "display_name": "Python 3.8.10 64-bit",
   "language": "python",
   "name": "python3"
  },
  "language_info": {
   "codemirror_mode": {
    "name": "ipython",
    "version": 3
   },
   "file_extension": ".py",
   "mimetype": "text/x-python",
   "name": "python",
   "nbconvert_exporter": "python",
   "pygments_lexer": "ipython3",
   "version": "3.8.10"
  },
  "orig_nbformat": 4,
  "vscode": {
   "interpreter": {
    "hash": "916dbcbb3f70747c44a77c7bcd40155683ae19c65e1c03b4aa3499c5328201f1"
   }
  }
 },
 "nbformat": 4,
 "nbformat_minor": 2
}

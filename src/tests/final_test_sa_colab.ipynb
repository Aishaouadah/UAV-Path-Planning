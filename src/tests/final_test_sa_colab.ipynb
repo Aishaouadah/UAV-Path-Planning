{
  "cells": [
    {
      "cell_type": "code",
      "execution_count": 1,
      "metadata": {
        "colab": {
          "base_uri": "https://localhost:8080/"
        },
        "id": "6-3GcrNbTAFk",
        "outputId": "71106772-72c1-40c4-e00c-344f0fc7a189"
      },
      "outputs": [
        {
          "output_type": "stream",
          "name": "stdout",
          "text": [
            "Looking in indexes: https://pypi.org/simple, https://us-python.pkg.dev/colab-wheels/public/simple/\n",
            "Collecting ipython-autotime\n",
            "  Downloading ipython_autotime-0.3.1-py2.py3-none-any.whl (6.8 kB)\n",
            "Requirement already satisfied: ipython in /usr/local/lib/python3.7/dist-packages (from ipython-autotime) (7.9.0)\n",
            "Requirement already satisfied: pexpect in /usr/local/lib/python3.7/dist-packages (from ipython->ipython-autotime) (4.8.0)\n",
            "Requirement already satisfied: traitlets>=4.2 in /usr/local/lib/python3.7/dist-packages (from ipython->ipython-autotime) (5.1.1)\n",
            "Requirement already satisfied: pickleshare in /usr/local/lib/python3.7/dist-packages (from ipython->ipython-autotime) (0.7.5)\n",
            "Requirement already satisfied: prompt-toolkit<2.1.0,>=2.0.0 in /usr/local/lib/python3.7/dist-packages (from ipython->ipython-autotime) (2.0.10)\n",
            "Requirement already satisfied: pygments in /usr/local/lib/python3.7/dist-packages (from ipython->ipython-autotime) (2.6.1)\n",
            "Collecting jedi>=0.10\n",
            "  Downloading jedi-0.18.1-py2.py3-none-any.whl (1.6 MB)\n",
            "\u001b[K     |████████████████████████████████| 1.6 MB 4.9 MB/s \n",
            "\u001b[?25hRequirement already satisfied: setuptools>=18.5 in /usr/local/lib/python3.7/dist-packages (from ipython->ipython-autotime) (57.4.0)\n",
            "Requirement already satisfied: backcall in /usr/local/lib/python3.7/dist-packages (from ipython->ipython-autotime) (0.2.0)\n",
            "Requirement already satisfied: decorator in /usr/local/lib/python3.7/dist-packages (from ipython->ipython-autotime) (4.4.2)\n",
            "Requirement already satisfied: parso<0.9.0,>=0.8.0 in /usr/local/lib/python3.7/dist-packages (from jedi>=0.10->ipython->ipython-autotime) (0.8.3)\n",
            "Requirement already satisfied: six>=1.9.0 in /usr/local/lib/python3.7/dist-packages (from prompt-toolkit<2.1.0,>=2.0.0->ipython->ipython-autotime) (1.15.0)\n",
            "Requirement already satisfied: wcwidth in /usr/local/lib/python3.7/dist-packages (from prompt-toolkit<2.1.0,>=2.0.0->ipython->ipython-autotime) (0.2.5)\n",
            "Requirement already satisfied: ptyprocess>=0.5 in /usr/local/lib/python3.7/dist-packages (from pexpect->ipython->ipython-autotime) (0.7.0)\n",
            "Installing collected packages: jedi, ipython-autotime\n",
            "Successfully installed ipython-autotime-0.3.1 jedi-0.18.1\n",
            "time: 840 µs (started: 2022-09-14 17:53:12 +00:00)\n"
          ]
        }
      ],
      "source": [
        "import tensorflow as tf\n",
        "tf.test.gpu_device_name()\n",
        "!pip install ipython-autotime\n",
        "%load_ext autotime"
      ]
    },
    {
      "cell_type": "code",
      "execution_count": 2,
      "metadata": {
        "colab": {
          "base_uri": "https://localhost:8080/"
        },
        "id": "TMBysLuHKxSL",
        "outputId": "0c3e4a12-17ef-415b-ef5b-9c645bcb8a30"
      },
      "outputs": [
        {
          "output_type": "stream",
          "name": "stdout",
          "text": [
            "time: 393 ms (started: 2022-09-14 17:53:12 +00:00)\n"
          ]
        }
      ],
      "source": [
        "# utils \n",
        "import math\n",
        "import numpy as np\n",
        "import cv2 as cv \n",
        "import os\n",
        "\n",
        "def image_none(img_path):\n",
        "    image=cv.imread(img_path)\n",
        "    return image\n",
        "\n",
        "def show_image(image):\n",
        "    cv.imshow('image', image) \n",
        "    cv.waitKey(0)\n",
        "    cv.destroyAllWindows()\n",
        "\n",
        "def euclidean_distance(node1, node2):\n",
        "    return math.sqrt((node1[0] - node2[0])**2 + (node1[1] - node2[1])**2)\n",
        "\n",
        "def manhattan_distance(node1, node2):\n",
        "    return abs(node1[0] - node2[0]) + abs(node1[1] - node2[1])\n",
        "  \n",
        "\n",
        "def octile_distance(node1,node2):\n",
        "    dx= node2[0] - node1[0]\n",
        "    dy= node2[1] - node1[1]\n",
        "    f = math.sqrt(2) - 1\n",
        "    if dx < dy:\n",
        "        return f * dx + dy\n",
        "    else:\n",
        "        return f * dy + dx\n",
        "\n",
        "def coloring_pixel(image,color,pixel):\n",
        "    if image is  not None:\n",
        "        image[pixel[0],pixel[1]]=color\n",
        "        return image\n",
        "\n",
        "def define_start_goal(image,start,goal):\n",
        "    start_color = [255, 0, 102] #pink \n",
        "    goal_color =  [0, 0, 204] #blue\n",
        "    if image is not None:\n",
        "        # should not be obstacle \n",
        "        if np.array_equal(image[start[0],start[1]],[229, 229, 229]) and np.array_equal(image[goal[0],goal[1]],[229, 229, 229]):\n",
        "            image = coloring_pixel(image,start_color,start)\n",
        "            image = coloring_pixel(image,goal_color,goal) \n",
        "            return image\n",
        "        else: \n",
        "            print(\"Goal or Start is an obstacle, Redefine it!\")\n",
        "            return image\n",
        "\n",
        "def draw_path(img_path,path):    \n",
        "    image=cv.imread(img_path)\n",
        "    path = set(path)\n",
        "    if image is not None:\n",
        "        for tuple in path:\n",
        "            image[tuple[1],tuple[0]]=[0, 0, 255] #red\n",
        "    return image\n",
        "\n",
        "def save_image(img_path,path,image_name):\n",
        "    image=cv.imread(img_path)\n",
        "    new_image = draw_path(image,path)\n",
        "    saving_path = '/content/'\n",
        "    cv.imwrite(os.path.join(saving_path , image_name), new_image)    \n",
        "\n",
        "def isValid(img_path,node):\n",
        "    image=cv.imread(img_path,0)\n",
        "    if image is not None:\n",
        "        return  image[node[0],node[1]] == 229 \n",
        "\n",
        "\n",
        "\n",
        "def imageToMatrix(img_path):\n",
        "    image=cv.imread(img_path,0)\n",
        "    rows,cols=(1073,1073)    \n",
        "    # image (grey scale) to a matrix of 0 and 1 \n",
        "    for i in range(rows):\n",
        "        for j in range(cols):\n",
        "            if image[i,j] == 0 or image[i,j] == 99: \n",
        "                image[i,j] = 0 #obstacle\n",
        "            elif image[i,j] == 229:\n",
        "                image[i,j] = 1\n",
        "    return image                \n",
        "    \n"
      ]
    },
    {
      "cell_type": "code",
      "execution_count": 3,
      "metadata": {
        "colab": {
          "base_uri": "https://localhost:8080/"
        },
        "id": "r7HrbH3eKikG",
        "outputId": "eeabe66e-550c-401d-d390-08e5e243d4a3"
      },
      "outputs": [
        {
          "output_type": "stream",
          "name": "stdout",
          "text": [
            "time: 960 ms (started: 2022-09-14 17:53:13 +00:00)\n"
          ]
        }
      ],
      "source": [
        "\"\"\" output structure: (room_name,method used, type de test, path, path length, operations, time)\"\"\"\n",
        "class room_path:\n",
        "    def __init__(self,room_name,method,test,path,path_length,operations,time):\n",
        "        self.room_name=room_name\n",
        "        self.method=method\n",
        "        self.test=test\n",
        "        self.path=path\n",
        "        self.path_length=path_length\n",
        "        self.operations=operations\n",
        "        self.time=time\n",
        "    def path_info(self):\n",
        "        path_info = \"room name : \" + str(self.room_name)+\", test : \" + self.test +\", path length : \" + str(self.path_length) + \", time : \" + str(self.time)\n",
        "        return path_info\n",
        "\n",
        "# Imports \n",
        "import math\n",
        "import random as rd \n",
        "import cv2 as cv\n",
        "import os\n",
        "\n",
        "\n",
        "def findNeighbors(matrix,node):\n",
        "    #check validity and return neighbors to choose randomly one of them\n",
        "    neighbors=[]\n",
        "    if matrix[node[0]+1,node[1]] == 1:\n",
        "        neighbors.append((node[0]+1,node[1]))\n",
        "    if matrix[node[0],node[1]+1]==1:\n",
        "        neighbors.append((node[0],node[1]+1))\n",
        "\n",
        "    if matrix[node[0]+1,node[1]+1]==1:\n",
        "        neighbors.append((node[0]+1,node[1]+1))\n",
        "\n",
        "    if matrix[node[0]-1,node[1]]==1:\n",
        "        neighbors.append((node[0]-1,node[1]))\n",
        "        \n",
        "    if matrix[node[0],node[1]-1]==1:\n",
        "        neighbors.append( (node[0],node[1]-1))\n",
        "\n",
        "    if matrix[node[0]-1,node[1]-1]==1:\n",
        "        neighbors.append((node[0]-1,node[1]-1))\n",
        "\n",
        "    if matrix[node[0]-1,node[1]+1]==1:\n",
        "        neighbors.append((node[0]-1,node[1]+1))\n",
        "\n",
        "    if matrix[node[0]+1,node[1]-1]==1:\n",
        "        neighbors.append((node[0]+1,node[1]-1)) \n",
        "\n",
        "    return neighbors\n",
        "\n",
        "def generatePath(matrix,start,end): \n",
        "    path=[]\n",
        "    path.append(start)\n",
        "    node=start \n",
        "    while(node!=end):\n",
        "        neighbors = findNeighbors(matrix,node)\n",
        "        node=neighbors[rd.randint(0,len(neighbors)-2)]\n",
        "        path.append(node)\n",
        "    return path\n",
        "\n",
        "def generateNeighboringPath(matrix,path): \n",
        "    x=rd.randint(0,len(path)-2)\n",
        "    neighbors=findNeighbors(matrix,path[x])\n",
        "    output=path.copy()\n",
        "    output[x]=neighbors[rd.randint(0,len(neighbors)-2)] \n",
        "    output[x+1:]=generatePath(matrix,output[x+1],output[-1])\n",
        "    return output\n",
        "\n",
        "def cost(path):\n",
        "    distance=0\n",
        "    for i in range(len(path)-1):\n",
        "        distance+=octile_distance(path[i],path[i+1])\n",
        "    return distance\n",
        "\n",
        "def sa(matrix,start,end , parameters):  \n",
        "    CT = parameters['IT']  # Current temperature\n",
        "    N= parameters['N']\n",
        "    NT= parameters['NT'] \n",
        "    alpha = parameters['alpha']\n",
        "    FT = parameters['FT']\n",
        "    CP = generatePath(matrix,start,end) # current path (random)\n",
        "    CL = cost(CP) \n",
        "    OP = CP # optimal path\n",
        "    OL = CL\n",
        "    for i in range(N):\n",
        "        print(\"i= \",i)\n",
        "        for j in range(NT):\n",
        "            RP = generateNeighboringPath(matrix,CP)\n",
        "            RL = cost(RP)  \n",
        "            if RL < CL:\n",
        "                CP = RP\n",
        "                CL = RL \n",
        "            else: \n",
        "                p = math.exp(-(RL-CL)/CT) # Transition Probability \n",
        "                r= rd.uniform(0, 1)\n",
        "                if r<p:\n",
        "                    CP = RP\n",
        "                    CL = RL \n",
        "            if CL < OL:\n",
        "                OP = CP\n",
        "                OL = CL\n",
        "        CT *= alpha \n",
        "        if CT <= FT:\n",
        "            break \n",
        "    return OP , OL \n",
        "\n",
        "from numba import jit, cuda\n",
        "\n",
        "# function optimized to run on gpu \n",
        "@jit(target_backend='cuda')\n",
        "# Save image\n",
        "def SA(img_path,start,end,image_name,parameters,test):\n",
        "    image=imageToMatrix(img_path)\n",
        "    op , ol = sa(image,start,end,parameters) \n",
        "    #Draw path in the image and save it\n",
        "    image=cv.imread(img_path)\n",
        "    new_image = draw_path(img_path,op) \n",
        "    saving_path = '/content/'+test \n",
        "    cv.imwrite(os.path.join(saving_path ,image_name), new_image)\n",
        "    return op, ol \n"
      ]
    },
    {
      "cell_type": "code",
      "execution_count": 4,
      "metadata": {
        "colab": {
          "base_uri": "https://localhost:8080/"
        },
        "id": "7Ogw3sHriRty",
        "outputId": "7573c813-1905-42d0-dcea-82126eb520e3"
      },
      "outputs": [
        {
          "output_type": "stream",
          "name": "stdout",
          "text": [
            "time: 2.39 ms (started: 2022-09-14 17:53:13 +00:00)\n"
          ]
        }
      ],
      "source": [
        "\"\"\" \n",
        "for each image, in benchmark find path for the given start and end (save images with path) \n",
        "for each image, save time needed to look for the path\n",
        "\"\"\"\n",
        "from os import listdir\n",
        "import time\n",
        "import cv2 as cv\n",
        "folder_dir = \"/content/\"\n",
        "file = open(\"/content/all_results.txt\",\"w\") \n",
        "\n",
        "\n",
        "#-------------------PARAMETER TUNING---------------------------------------- \n",
        "\n",
        "file.write(\"\\nPARAMETER TUNING \\n\")\n",
        "\n",
        "IT = [ 2 ] \n",
        "FT = [ 0 ]\n",
        "N =[ 2 ] \n",
        "NT = [ 2 ] \n",
        "alpha = [  0.8 ]\n",
        "images=[\"16room_003.png\" ] #,\"8room_001.png\",\"8room_002.png\",\"8room_003.png\",\"8room_004.png\",\"8room_005.png\",\"8room_006.png\", \"8room_007.png\", \"8room_008.png\", \"8room_009.png\" ]\n",
        "\n",
        "start = (29, 38)\n",
        "end = (21, 50)\n",
        "easy_output =[]\n",
        "i=0\n"
      ]
    },
    {
      "cell_type": "code",
      "execution_count": 5,
      "metadata": {
        "colab": {
          "base_uri": "https://localhost:8080/"
        },
        "id": "MF9QZN5dTAFr",
        "outputId": "18cef095-e480-423f-b7bc-d36e8c772caf"
      },
      "outputs": [
        {
          "output_type": "stream",
          "name": "stdout",
          "text": [
            "8room_000.png\n"
          ]
        },
        {
          "output_type": "stream",
          "name": "stderr",
          "text": [
            "<ipython-input-3-4c1f7142afc4>:112: NumbaWarning: \n",
            "Compilation is falling back to object mode WITH looplifting enabled because Function \"SA\" failed type inference due to: Untyped global name 'imageToMatrix': Cannot determine Numba type of <class 'function'>\n",
            "\n",
            "File \"<ipython-input-3-4c1f7142afc4>\", line 115:\n",
            "def SA(img_path,start,end,image_name,parameters,test):\n",
            "    image=imageToMatrix(img_path)\n",
            "    ^\n",
            "\n",
            "  @jit(target_backend='cuda')\n",
            "/usr/local/lib/python3.7/dist-packages/numba/core/object_mode_passes.py:152: NumbaWarning: Function \"SA\" was compiled in object mode without forceobj=True.\n",
            "\n",
            "File \"<ipython-input-3-4c1f7142afc4>\", line 114:\n",
            "# Save image\n",
            "def SA(img_path,start,end,image_name,parameters,test):\n",
            "^\n",
            "\n",
            "  state.func_ir.loc))\n",
            "/usr/local/lib/python3.7/dist-packages/numba/core/object_mode_passes.py:162: NumbaDeprecationWarning: \n",
            "Fall-back from the nopython compilation path to the object mode compilation path has been detected, this is deprecated behaviour.\n",
            "\n",
            "For more information visit https://numba.readthedocs.io/en/stable/reference/deprecation.html#deprecation-of-object-mode-fall-back-behaviour-when-using-jit\n",
            "\n",
            "File \"<ipython-input-3-4c1f7142afc4>\", line 114:\n",
            "# Save image\n",
            "def SA(img_path,start,end,image_name,parameters,test):\n",
            "^\n",
            "\n",
            "  state.func_ir.loc))\n"
          ]
        },
        {
          "output_type": "stream",
          "name": "stdout",
          "text": [
            "i=  0\n",
            "i=  1\n",
            "path =  [(29, 38), (28, 38), (29, 38), (28, 38), (28, 39), (27, 39), (28, 39), (27, 39), (27, 40), (28, 41), (29, 42), (30, 42), (31, 42), (30, 41), (29, 42), (29, 43), (30, 43), (29, 42), (28, 41), (27, 41), (28, 41), (28, 40), (28, 41), (27, 42), (28, 43), (27, 43), (26, 44), (25, 43), (24, 44), (24, 45), (24, 46), (24, 47), (25, 47), (26, 47), (26, 49), (25, 47), (26, 48), (26, 47), (25, 48), (26, 48), (26, 47), (26, 48), (26, 49), (25, 50), (26, 51), (25, 51), (24, 51), (23, 51), (23, 50), (22, 49), (21, 49), (21, 48), (22, 48), (21, 49), (21, 50)]\n",
            "--- 4.639846563339233 seconds ---\n",
            "room name : 0new_8room_000.png, test : easy, path length : 18.05887450304571, time : 4.639883041381836\n",
            "room name : 0new_8room_000.png, test : easy, path length : 18.05887450304571, time : 4.639883041381836it: 2 ft: 0 n: 2 nt: 2 alpha: 0.8\n",
            "(29, 38)(21, 50)\n",
            "time: 4.74 s (started: 2022-09-13 20:22:40 +00:00)\n"
          ]
        }
      ],
      "source": [
        "\n",
        "for image in images:\n",
        "    parameters = {}\n",
        "    for it in IT:\n",
        "        parameters['IT'] = it     # Initial temperature\n",
        "        for ft in FT:\n",
        "            parameters['FT'] = ft     # Final temperature \n",
        "            for n in N:\n",
        "                parameters['N']  = n      # Number of iterations\n",
        "                for nt in NT:\n",
        "                    parameters['NT']= nt       # Number of iterations per Temperature \n",
        "                    for a in alpha:\n",
        "                        parameters['alpha'] = a  # Geometric Coefficient alpha\n",
        "                        img_path=folder_dir+\"/\"+str(image)\n",
        "                        img=cv.imread(img_path,0)\n",
        "                        if img is not None:\n",
        "                            if isValid(img_path,start):\n",
        "                                if isValid(img_path,end):\n",
        "                                    print(str(image))\n",
        "                                    start_time = time.time()\n",
        "                                    path , length = SA(img_path,start,end,str(i)+\"new_\"+str(image),parameters,\"easy\")\n",
        "                                    print(\"path = \", path)\n",
        "                                    print(\"--- %s seconds ---\" % (time.time() - start_time))\n",
        "                                    easy_output.append(room_path(str(i)+\"new_\"+str(image),\"SA\",\"easy\" ,path, length,0,time.time() - start_time))                                     \n",
        "                                    pathInfo = easy_output[-1].path_info()\n",
        "                                    print(pathInfo)\n",
        "                                    temp= str(pathInfo) +\"it: \"+str(it)+\" ft: \"+str(ft)+\" n: \"+str(n)+\" nt: \"+str(nt)+\" alpha: \"+str(a) + \"\\n\"\n",
        "                                    print(temp + str(start) + str(end ) )\n",
        "                                    file.write(temp)\n",
        "                                    i=i+1\n",
        "                                else:\n",
        "                                    print(str(image) ,\"invalid end\")\n",
        "                            else:\n",
        "                                print(str(image),\"invalid start\")\n",
        "                        else:\n",
        "                            print(\"image is None\")"
      ]
    },
    {
      "cell_type": "code",
      "execution_count": 6,
      "metadata": {
        "colab": {
          "base_uri": "https://localhost:8080/"
        },
        "id": "nMOMVj_3qxdC",
        "outputId": "fc3008d5-ba21-4d09-f25b-51c62fc16a63"
      },
      "outputs": [
        {
          "output_type": "stream",
          "name": "stdout",
          "text": [
            "Wed Sep 14 11:16:43 2022       \n",
            "+-----------------------------------------------------------------------------+\n",
            "| NVIDIA-SMI 460.32.03    Driver Version: 460.32.03    CUDA Version: 11.2     |\n",
            "|-------------------------------+----------------------+----------------------+\n",
            "| GPU  Name        Persistence-M| Bus-Id        Disp.A | Volatile Uncorr. ECC |\n",
            "| Fan  Temp  Perf  Pwr:Usage/Cap|         Memory-Usage | GPU-Util  Compute M. |\n",
            "|                               |                      |               MIG M. |\n",
            "|===============================+======================+======================|\n",
            "|   0  Tesla T4            Off  | 00000000:00:04.0 Off |                    0 |\n",
            "| N/A   42C    P0    26W /  70W |    284MiB / 15109MiB |      0%      Default |\n",
            "|                               |                      |                  N/A |\n",
            "+-------------------------------+----------------------+----------------------+\n",
            "                                                                               \n",
            "+-----------------------------------------------------------------------------+\n",
            "| Processes:                                                                  |\n",
            "|  GPU   GI   CI        PID   Type   Process name                  GPU Memory |\n",
            "|        ID   ID                                                   Usage      |\n",
            "|=============================================================================|\n",
            "+-----------------------------------------------------------------------------+\n",
            "time: 217 ms (started: 2022-09-14 11:16:42 +00:00)\n"
          ]
        }
      ],
      "source": [
        "!nvidia-smi"
      ]
    },
    {
      "cell_type": "markdown",
      "source": [
        "## TEST 2"
      ],
      "metadata": {
        "id": "_RsOjQlGZDNf"
      }
    },
    {
      "cell_type": "code",
      "source": [
        "image=\"16room_004.png\" \n",
        "parameters = {}\n",
        "parameters['IT'] = 2  # Initial temperature\n",
        "parameters['FT'] = 0     # Final temperature \n",
        "parameters['N']  = 2     # Number of iterations\n",
        "parameters['NT']= 2       # Number of iterations per Temperature \n",
        "parameters['alpha'] = 0.8  # Geometric Coefficient alpha\n",
        "img_path=folder_dir+\"/\"+str(image)\n",
        "img=cv.imread(img_path,0)\n",
        "if img is not None:\n",
        "  if isValid(img_path,start):\n",
        "    if isValid(img_path,end):\n",
        "      print(str(image))\n",
        "      start_time = time.time()\n",
        "      path , length = SA(img_path,start,end,str(i)+\"new_\"+str(image),parameters,\"easy\")\n",
        "      print(\"path = \", path)\n",
        "      print(\"--- %s seconds ---\" % (time.time() - start_time))\n",
        "      easy_output.append(room_path(str(i)+\"new_\"+str(image),\"SA\",\"easy\" ,path, length,0,time.time() - start_time))                                     \n",
        "      pathInfo = easy_output[-1].path_info()\n",
        "      print(pathInfo)\n",
        "      temp= str(pathInfo) +\"ft: \"+str(2)+\" ft: \"+str(0)+\" n: \"+str(2)+\" nt: \"+str(2)+\" alpha: \"+str(0,8) + \"\\n\"\n",
        "      print(temp + str(start) + str(end ) )\n",
        "      file.write(temp)\n",
        "      i=i+1\n",
        "    else:\n",
        "      print(str(image) ,\"invalid end\")\n",
        "  else:\n",
        "    print(str(image),\"invalid start\")\n",
        "else:\n",
        "    print(\"image is None\")"
      ],
      "metadata": {
        "colab": {
          "base_uri": "https://localhost:8080/"
        },
        "id": "h-3gW0aZZFzU",
        "outputId": "49266003-f2bc-4908-a734-9de9a04af1d9"
      },
      "execution_count": null,
      "outputs": [
        {
          "output_type": "stream",
          "name": "stdout",
          "text": [
            "16room_004.png\n"
          ]
        }
      ]
    },
    {
      "cell_type": "code",
      "execution_count": null,
      "metadata": {
        "colab": {
          "base_uri": "https://localhost:8080/",
          "height": 258
        },
        "id": "lFfKfwv403_t",
        "outputId": "860f2cb4-a767-4cc5-bf10-e263f29607b2"
      },
      "outputs": [
        {
          "data": {
            "application/vnd.google.colaboratory.intrinsic+json": {
              "type": "string"
            },
            "text/plain": [
              "'\\nparameters={\\'IT\\':1,\\'FT\\':1,\\'N\\':1,\\'NT\\':1,\\'alpha\\':0.9}\\n\\n#-------------------EASY TEST---------------------------------------- \\n\\nstart = (133, 30)\\nend = (21, 201)\\n\\neasy_output=[]\\nfor image in listdir(folder_dir):\\n    img_path=folder_dir+\"/\"+str(image)\\n    img=cv.imread(img_path,0)\\n    if img is not None:\\n        if isValid(img_path,start):\\n            if isValid(img_path,end):\\n                #print(str(image))\\n                start_time = time.time()\\n                path , length = SA(img_path,start,end,\"new_\"+str(image),parameters,\"easy\")\\n                #print(\"--- %s seconds ---\" % (time.time() - start_time))\\n                easy_output.append(room_path.room_path(\"new_\"+str(image),\"SA\",\"easy\",path,0 , length,time.time() - start_time))\\n            else:\\n                print(str(image) ,\"invalid end\")\\n        else:\\n            print(str(image),\"invalid start\")\\n    else:\\n        print(\"image is None\")\\n\\n\\nfile.write(\"\\nEASY TEST \\n\")\\nprint(\"length (medium output) : \",len(easy_output))        \\nfor i in range(len(easy_output)):\\n    pathInfo = easy_output[i].path_info()\\n    print(pathInfo)\\n    file.write((pathInfo+\"\\n\"))\\n\\n\\n#-------------------Medium TEST---------------------------------------- \\n\\nstart = (18, 30)\\nend = (21, 1001)\\n\\nmedium_output=[]\\nfor image in listdir(folder_dir):\\n    img_path=folder_dir+\"/\"+str(image)\\n    img=cv.imread(img_path,0)\\n    if img is not None:\\n        if isValid(img_path,start):\\n            if isValid(img_path,end):\\n                #print(str(image))\\n                start_time = time.time()\\n                path , length = SA(img_path,start,end,\"new_\"+str(image),parameters,\"medium\")\\n                #print(\"--- %s seconds ---\" % (time.time() - start_time))\\n                medium_output.append(room_path.room_path(\"new_\"+str(image),\"SA\",\"medium\",path,0 , length,time.time() - start_time))\\n            else:\\n                print(str(image) ,\"invalid end\")\\n        else:\\n            print(str(image),\"invalid start\")\\n    else:\\n        print(\"image is None\")\\n\\n# CHANGE START , END\\n\\nfile.write(\"\\nMEDIUM TEST \\n\")\\nprint(\"length (medium output) : \",len(medium_output))        \\nfor i in range(len(medium_output)):\\n    pathInfo = medium_output[i].path_info()\\n    print(pathInfo)\\n    file.write((pathInfo+\"\\n\"))\\n\\n\\n#-------------------HARD TEST---------------------------------------- \\n\\n\\nstart = (12, 30)\\nend = (1040, 990)\\n\\nhard_output=[]\\nfor image in listdir(folder_dir):\\n    img_path=folder_dir+\"/\"+str(image)\\n    img=cv.imread(img_path,0)\\n    if img is not None:\\n        if isValid(img_path,start):\\n            if isValid(img_path,end):\\n                #print(str(image))\\n                start_time = time.time()\\n                path , length = SA(img_path,start,end,\"new_\"+str(image),parameters,\"hard\")\\n                #print(\"--- %s seconds ---\" % (time.time() - start_time))\\n                hard_output.append(room_path.room_path(\"new_\"+str(image),\"SA\",\"hard\",path ,0, length,time.time() - start_time))\\n            else:\\n                print(str(image) ,\"invalid end\")\\n        else:\\n            print(str(image),\"invalid start\")\\n    else:\\n        print(\"image is None\")\\n\\nfile.write(\"\\nHARD TEST \\n\")\\nprint(\"length (hard output) : \",len(hard_output))        \\nfor i in range(len(hard_output)):\\n    pathInfo = hard_output[i].path_info()\\n    print(pathInfo)\\n    file.write((pathInfo+\"\\n\"))\\n\\n'"
            ]
          },
          "execution_count": 1,
          "metadata": {},
          "output_type": "execute_result"
        }
      ],
      "source": [
        "\n",
        "\"\"\"\n",
        "parameters={'IT':1,'FT':1,'N':1,'NT':1,'alpha':0.9}\n",
        "\n",
        "#-------------------EASY TEST---------------------------------------- \n",
        "\n",
        "start = (133, 30)\n",
        "end = (21, 201)\n",
        "\n",
        "easy_output=[]\n",
        "for image in listdir(folder_dir):\n",
        "    img_path=folder_dir+\"/\"+str(image)\n",
        "    img=cv.imread(img_path,0)\n",
        "    if img is not None:\n",
        "        if isValid(img_path,start):\n",
        "            if isValid(img_path,end):\n",
        "                #print(str(image))\n",
        "                start_time = time.time()\n",
        "                path , length = SA(img_path,start,end,\"new_\"+str(image),parameters,\"easy\")\n",
        "                #print(\"--- %s seconds ---\" % (time.time() - start_time))\n",
        "                easy_output.append(room_path.room_path(\"new_\"+str(image),\"SA\",\"easy\",path,0 , length,time.time() - start_time))\n",
        "            else:\n",
        "                print(str(image) ,\"invalid end\")\n",
        "        else:\n",
        "            print(str(image),\"invalid start\")\n",
        "    else:\n",
        "        print(\"image is None\")\n",
        "\n",
        "\n",
        "file.write(\"\\nEASY TEST \\n\")\n",
        "print(\"length (medium output) : \",len(easy_output))        \n",
        "for i in range(len(easy_output)):\n",
        "    pathInfo = easy_output[i].path_info()\n",
        "    print(pathInfo)\n",
        "    file.write((pathInfo+\"\\n\"))\n",
        "\n",
        "\n",
        "#-------------------Medium TEST---------------------------------------- \n",
        "\n",
        "start = (18, 30)\n",
        "end = (21, 1001)\n",
        "\n",
        "medium_output=[]\n",
        "for image in listdir(folder_dir):\n",
        "    img_path=folder_dir+\"/\"+str(image)\n",
        "    img=cv.imread(img_path,0)\n",
        "    if img is not None:\n",
        "        if isValid(img_path,start):\n",
        "            if isValid(img_path,end):\n",
        "                #print(str(image))\n",
        "                start_time = time.time()\n",
        "                path , length = SA(img_path,start,end,\"new_\"+str(image),parameters,\"medium\")\n",
        "                #print(\"--- %s seconds ---\" % (time.time() - start_time))\n",
        "                medium_output.append(room_path.room_path(\"new_\"+str(image),\"SA\",\"medium\",path,0 , length,time.time() - start_time))\n",
        "            else:\n",
        "                print(str(image) ,\"invalid end\")\n",
        "        else:\n",
        "            print(str(image),\"invalid start\")\n",
        "    else:\n",
        "        print(\"image is None\")\n",
        "\n",
        "# CHANGE START , END\n",
        "\n",
        "file.write(\"\\nMEDIUM TEST \\n\")\n",
        "print(\"length (medium output) : \",len(medium_output))        \n",
        "for i in range(len(medium_output)):\n",
        "    pathInfo = medium_output[i].path_info()\n",
        "    print(pathInfo)\n",
        "    file.write((pathInfo+\"\\n\"))\n",
        "\n",
        "\n",
        "#-------------------HARD TEST---------------------------------------- \n",
        "\n",
        "\n",
        "start = (12, 30)\n",
        "end = (1040, 990)\n",
        "\n",
        "hard_output=[]\n",
        "for image in listdir(folder_dir):\n",
        "    img_path=folder_dir+\"/\"+str(image)\n",
        "    img=cv.imread(img_path,0)\n",
        "    if img is not None:\n",
        "        if isValid(img_path,start):\n",
        "            if isValid(img_path,end):\n",
        "                #print(str(image))\n",
        "                start_time = time.time()\n",
        "                path , length = SA(img_path,start,end,\"new_\"+str(image),parameters,\"hard\")\n",
        "                #print(\"--- %s seconds ---\" % (time.time() - start_time))\n",
        "                hard_output.append(room_path.room_path(\"new_\"+str(image),\"SA\",\"hard\",path ,0, length,time.time() - start_time))\n",
        "            else:\n",
        "                print(str(image) ,\"invalid end\")\n",
        "        else:\n",
        "            print(str(image),\"invalid start\")\n",
        "    else:\n",
        "        print(\"image is None\")\n",
        "\n",
        "file.write(\"\\nHARD TEST \\n\")\n",
        "print(\"length (hard output) : \",len(hard_output))        \n",
        "for i in range(len(hard_output)):\n",
        "    pathInfo = hard_output[i].path_info()\n",
        "    print(pathInfo)\n",
        "    file.write((pathInfo+\"\\n\"))\n",
        "\n",
        "\"\"\""
      ]
    }
  ],
  "metadata": {
    "accelerator": "GPU",
    "colab": {
      "collapsed_sections": [],
      "provenance": []
    },
    "gpuClass": "standard",
    "kernelspec": {
      "display_name": "Python 3.10.4 64-bit",
      "language": "python",
      "name": "python3"
    },
    "language_info": {
      "codemirror_mode": {
        "name": "ipython",
        "version": 3
      },
      "file_extension": ".py",
      "mimetype": "text/x-python",
      "name": "python",
      "nbconvert_exporter": "python",
      "pygments_lexer": "ipython3",
      "version": "3.10.4"
    },
    "vscode": {
      "interpreter": {
        "hash": "916dbcbb3f70747c44a77c7bcd40155683ae19c65e1c03b4aa3499c5328201f1"
      }
    }
  },
  "nbformat": 4,
  "nbformat_minor": 0
}
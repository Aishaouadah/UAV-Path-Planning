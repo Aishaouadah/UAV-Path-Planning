{
 "cells": [
  {
   "cell_type": "markdown",
   "metadata": {},
   "source": [
    "# UAV Path Planning with Metaheuristic A*"
   ]
  },
  {
   "cell_type": "code",
   "execution_count": 19,
   "metadata": {},
   "outputs": [],
   "source": [
    "## Defining G,H and F functions\n",
    "\n",
    "#G cost = distance from starting node\n",
    "#H cost = distance from end node\n",
    "#F cost = G cost + H cost \n",
    "#we choose the node with least F cost , when F is equal we check H \n",
    "\n",
    "## Defining Input, Output\n",
    "\n",
    "#INPUT : OccupancyGrid(matrix with 0:free 1:occupied), start(state : x,y), goal(x,y)\n",
    "#OUTPUT : path (sequence of states (x,y,orientation))"
   ]
  },
  {
   "cell_type": "markdown",
   "metadata": {},
   "source": [
    "## Pseudo Algo"
   ]
  },
  {
   "cell_type": "code",
   "execution_count": 20,
   "metadata": {},
   "outputs": [
    {
     "data": {
      "text/plain": [
       "'\\nList OPEN: nodes to be evaluated \\nList CLOSED : nodes already evaluted \\nadd the start node to OPEN\\nloop\\n  current = node is OPEN with the lowest f_cost\\n  remove current from OPEN\\n  add current to CLOSED\\n  if current is the target node\\n    return\\nfor each neighbour of the current node\\n    if neighbour is not traversable or neighbour is in CLOSED\\n        skip to the next neighbour\\n    if new path to neighbor is shorter or neighbour is not in OPEN\\n        set f_cost to neighbour\\n        set parent of neighbour to current\\n        if neighbour is not in OPEN\\n            add neighbour to OPEN\\n'"
      ]
     },
     "execution_count": 20,
     "metadata": {},
     "output_type": "execute_result"
    }
   ],
   "source": [
    "'''\n",
    "List OPEN: nodes to be evaluated \n",
    "List CLOSED : nodes already evaluted \n",
    "add the start node to OPEN\n",
    "loop\n",
    "  current = node is OPEN with the lowest f_cost\n",
    "  remove current from OPEN\n",
    "  add current to CLOSED\n",
    "  if current is the target node\n",
    "    return\n",
    "for each neighbour of the current node\n",
    "    if neighbour is not traversable or neighbour is in CLOSED\n",
    "        skip to the next neighbour\n",
    "    if new path to neighbor is shorter or neighbour is not in OPEN\n",
    "        set f_cost to neighbour\n",
    "        set parent of neighbour to current\n",
    "        if neighbour is not in OPEN\n",
    "            add neighbour to OPEN\n",
    "'''\n",
    "\n",
    "# ORIENTATION IS NOT INCLUDED (CHECK IT USING NEIGHBOUR)"
   ]
  },
  {
   "cell_type": "markdown",
   "metadata": {},
   "source": [
    "## A Star"
   ]
  },
  {
   "cell_type": "code",
   "execution_count": 21,
   "metadata": {},
   "outputs": [],
   "source": [
    "def reconstructPath(came_from,current,draw):\n",
    "    while current in came_from:\n",
    "        current = came_from[current]\n",
    "        current.make_path()\n",
    "        draw()\n",
    "\n",
    "\n",
    "def A_Star(draw, grid,start, end):\n",
    "    count = 0\n",
    "    open_set = PriorityQueue()\n",
    "    open_set.put((0, count, start))\n",
    "    came_from = {}\n",
    "\n",
    "    g_score = {cell: float(\"inf\") for row in grid for cell in row}\n",
    "    g_score[start] = 0\n",
    "    f_score = {cell: float(\"inf\") for row in grid for cell in row}\n",
    "    f_score[start] = h(start.get_pos(), end.get_pos())\n",
    "\n",
    "    open_set_hash = {start}\n",
    "\n",
    "    while not open_set.empty():\n",
    "        #Allows user to quit program while algorithm is running\n",
    "        for event in pygame.event.get():\n",
    "            if event.type == pygame.QUIT:\n",
    "                pygame.quit()\n",
    "        \n",
    "        current = open_set.get()[2]\n",
    "        open_set_hash.remove(current)\n",
    "\n",
    "        #Makes path if current cell is the end cell\n",
    "        if current == end:\n",
    "            reconstructPath(came_from, end, draw)\n",
    "            end.make_end()\n",
    "            return True\n",
    "\n",
    "        for neighbor in current.neighbors:\n",
    "            temp_g_score = g_score[current] + 1\n",
    "\n",
    "            if temp_g_score < g_score[neighbor]:\n",
    "                came_from[neighbor] = current\n",
    "                g_score[neighbor] = temp_g_score\n",
    "                f_score[neighbor] = temp_g_score + h(neighbor.get_pos(), end.get_pos())\n",
    "                if neighbor not in open_set_hash:\n",
    "                    count += 1\n",
    "                    open_set.put((f_score[neighbor], count, neighbor))\n",
    "                    open_set_hash.add(neighbor)\n",
    "                    neighbor.make_open()\n",
    "\n",
    "        draw()\n",
    "\n",
    "        if current != start:\n",
    "            current.make_close()\n",
    "            \n",
    "\n",
    "    return False \n",
    "##PS TRY TO INCLUDE ORIENTATION"
   ]
  },
  {
   "cell_type": "code",
   "execution_count": 22,
   "metadata": {},
   "outputs": [
    {
     "data": {
      "text/plain": [
       "'Function that transform an image to a matrix '"
      ]
     },
     "execution_count": 22,
     "metadata": {},
     "output_type": "execute_result"
    }
   ],
   "source": [
    "# ImageToMatrix\n",
    "'''Function that transform an image to a matrix '''"
   ]
  },
  {
   "cell_type": "code",
   "execution_count": 23,
   "metadata": {},
   "outputs": [
    {
     "data": {
      "text/plain": [
       "'\\nOccupancyGrid  n*m matrix (with 0,1)\\nmoving up,down,right,left: cost is 1\\nmoving rightUp,rightDown,leftUp,leftDown: cost is 1,4 (sqrt(2))\\n'"
      ]
     },
     "execution_count": 23,
     "metadata": {},
     "output_type": "execute_result"
    }
   ],
   "source": [
    "'''\n",
    "OccupancyGrid  n*m matrix (with 0,1)\n",
    "moving up,down,right,left: cost is 1\n",
    "moving rightUp,rightDown,leftUp,leftDown: cost is 1,4 (sqrt(2))\n",
    "'''"
   ]
  },
  {
   "cell_type": "code",
   "execution_count": 24,
   "metadata": {},
   "outputs": [],
   "source": [
    "import pygame\n",
    "import math\n",
    "from queue import PriorityQueue\n",
    "#Window \n",
    "WIDTH = 900\n",
    "WIN = pygame.display.set_mode((WIDTH,WIDTH))\n",
    "\n",
    "pygame.display.set_caption(\"A* Path Finding Algorithm\")\n",
    "\n",
    "#Colors\n",
    "RED = (255, 0, 0)\n",
    "GREEN = (0, 255, 0)\n",
    "BLUE = (0, 0, 255)\n",
    "YELLOW = (255, 255, 0)\n",
    "WHITE = (255, 255, 255)\n",
    "BLACK = (0, 0, 0)\n",
    "PURPLE = (128, 0, 128)\n",
    "ORANGE= (255, 165, 0)\n",
    "GREY = (128, 128, 128)\n",
    "TURQUOISE = (64, 224, 208)"
   ]
  },
  {
   "cell_type": "code",
   "execution_count": 25,
   "metadata": {},
   "outputs": [],
   "source": [
    "class Cell:\n",
    "    def __init__(self,row,col,width,total_rows):\n",
    "        self.row= row\n",
    "        self.col=col\n",
    "        self.x=row * width\n",
    "        self.y=col * width\n",
    "        self.color=WHITE\n",
    "        self.neighbors = []\n",
    "        self.width=width\n",
    "        self.total_rows=total_rows\n",
    "\n",
    "    def get_pos(self):\n",
    "        return self.row, self.col\n",
    "\n",
    "    def is_closed(self):\n",
    "        return self.color == RED\n",
    "\n",
    "    def is_open(self):\n",
    "        return self.color == GREEN\n",
    "\n",
    "    def is_obstacle(self):\n",
    "        return self.color == BLACK\n",
    "\n",
    "    def is_start(self):\n",
    "        return self.color == ORANGE\n",
    "\n",
    "    def is_end(self):\n",
    "        return self.color == TURQUOISE\n",
    "\n",
    "    \n",
    "    def reset(self):\n",
    "        self.color = WHITE\n",
    "\n",
    "    def make_close(self):\n",
    "        self.color = RED\n",
    "\n",
    "    def make_start(self):\n",
    "        self.color = ORANGE\n",
    "\n",
    "    def make_open(self):\n",
    "        self.color = GREEN\n",
    "\n",
    "    def make_obstacle(self):\n",
    "        self.color = BLACK\n",
    "    \n",
    "    def make_end(self):\n",
    "        self.color = TURQUOISE\n",
    "\n",
    "    def make_path(self):\n",
    "        self.color = PURPLE\n",
    "   \n",
    "    def draw(self,win):\n",
    "        pygame.draw.rect(win,self.color,(self.x,self.y,self.width,self.width))\n",
    "\n",
    "    def update_neighbors(self,grid):\n",
    "        self.neighbors = []\n",
    "        if self.row < self.total_rows -1 and not grid[self.row +1][self.col].is_obstacle(): #DOWN\n",
    "            self.neighbors.append(grid[self.row +1][self.col])\n",
    "        \n",
    "        if self.row > 0 and not grid[self.row -1][self.col].is_obstacle(): #UP\n",
    "            self.neighbors.append(grid[self.row -1][self.col])\n",
    "        \n",
    "        if self.col < self.total_rows -1 and not grid[self.row][self.col+1].is_obstacle(): #RIGHT\n",
    "            self.neighbors.append(grid[self.row][self.col+1])\n",
    "        \n",
    "        if self.col > 0  and not grid[self.row][self.col-1].is_obstacle(): #LEFT\n",
    "            self.neighbors.append(grid[self.row ][self.col-1])\n",
    "\n",
    "        if self.col > 0 and self.row >0  and not grid[self.row-1][self.col - 1].is_obstacle(): \n",
    "            self.neighbors.append(grid[self.row-1][self.col - 1])\n",
    "        if self.row < self.total_rows-1 and self.col >0  and not grid[self.row+1][self.col - 1].is_obstacle(): \n",
    "            self.neighbors.append(grid[self.row+1][self.col - 1])\n",
    "        if self.col < self.total_rows-1 and self.row >0 and not grid[self.row-1][self.col + 1].is_obstacle():\n",
    "            self.neighbors.append(grid[self.row-1][self.col + 1])\n",
    "        if self.col < self.total_rows-1 and self.row <self.total_rows-1 and not grid[self.row+1][self.col + 1].is_obstacle():\n",
    "            self.neighbors.append(grid[self.row+1][self.col + 1])\t\n",
    "        \n",
    "           \n",
    "\n",
    "    def __lt__(self,other):\n",
    "        return False"
   ]
  },
  {
   "cell_type": "code",
   "execution_count": 26,
   "metadata": {},
   "outputs": [],
   "source": [
    " #Win functions\n",
    "\n",
    "def h(p1,p2):\n",
    "    x1, y1 =p1\n",
    "    x2, y2 =p2\n",
    "    return abs(x1-x2)+abs(y1-y2)\n",
    "\n",
    "def make_grid(rows,width):\n",
    "    grid =[]\n",
    "    gap = width // rows #width of a single cell\n",
    "    for i in range(rows):\n",
    "        grid.append([])\n",
    "        for j in range(rows):\n",
    "            cell = Cell(i,j,gap,rows)\n",
    "            grid[i].append(cell)\n",
    "    return grid\n",
    "\n",
    "def draw_grid(win,rows,width):\n",
    "    gap = width // rows\n",
    "    for i in range(rows):\n",
    "        pygame.draw.line(win,GREY,(0,i*gap),(width,i*gap))\n",
    "        for j in range(rows):\n",
    "            pygame.draw.line(win,GREY,(j*gap,0),(j*gap,width))\n",
    "\n",
    "def draw(win,grid,rows,width):\n",
    "    win.fill(WHITE)\n",
    "    for row in grid:\n",
    "        for cell in row:\n",
    "            cell.draw(win)\n",
    "    draw_grid(win,rows,width)  \n",
    "    pygame.display.update()\n",
    "\n",
    "def get_clicked_pos(pos,rows,width):\n",
    "    gap = width//rows\n",
    "    y,x=pos\n",
    "    \n",
    "    row = y // gap\n",
    "    col = x // gap\n",
    "\n",
    "    return row,col     \n"
   ]
  },
  {
   "cell_type": "code",
   "execution_count": 27,
   "metadata": {},
   "outputs": [],
   "source": [
    "def launch_win(win,width):\n",
    "    ROWS = 50\n",
    "    grid = make_grid(ROWS,width)\n",
    "\n",
    "    start = None\n",
    "    end = None\n",
    "    run = True\n",
    "    started = False\n",
    "    while run:\n",
    "        draw(win,grid,ROWS,width)\n",
    "        for event in pygame.event.get():\n",
    "            if event.type == pygame.QUIT:\n",
    "                run = False\n",
    "            if started:\n",
    "                continue\n",
    "\n",
    "            if pygame.mouse.get_pressed()[0]: #LEFT\n",
    "                pos = pygame.mouse.get_pos() \n",
    "                row,col=get_clicked_pos(pos,ROWS,width)\n",
    "                cell = grid[row][col]\n",
    "                if not start and cell != end:\n",
    "                    start = cell\n",
    "                    start.make_start()\n",
    "                elif not end and cell != start:\n",
    "                    end=cell\n",
    "                    end.make_end()\n",
    "                elif cell != end and cell != start:\n",
    "                    cell.make_obstacle()\n",
    "\n",
    "            elif pygame.mouse.get_pressed()[2]:\n",
    "                pos = pygame.mouse.get_pos() \n",
    "                row,col=get_clicked_pos(pos,ROWS,width)\n",
    "                cell = grid[row][col]\n",
    "                cell.reset()\n",
    "                if cell == start:\n",
    "                    start =end\n",
    "                if cell == end:\n",
    "                    end = None\n",
    "            if event.type == pygame.KEYDOWN:\n",
    "                if event.key == pygame.K_SPACE and not started: \n",
    "                    for row in grid:\n",
    "                        for cell in row:\n",
    "                            cell.update_neighbors(grid)\n",
    "                    A_Star(lambda: draw(win, grid,ROWS,width),grid,start,end)\n",
    "\n",
    "\n",
    "                \n",
    "    pygame.quit()   \n"
   ]
  },
  {
   "cell_type": "code",
   "execution_count": 28,
   "metadata": {},
   "outputs": [],
   "source": [
    "\n",
    "def main():\n",
    "    launch_win(WIN,WIDTH)\n",
    "\n"
   ]
  },
  {
   "cell_type": "code",
   "execution_count": 29,
   "metadata": {},
   "outputs": [],
   "source": [
    "main()"
   ]
  }
 ],
 "metadata": {
  "interpreter": {
   "hash": "916dbcbb3f70747c44a77c7bcd40155683ae19c65e1c03b4aa3499c5328201f1"
  },
  "kernelspec": {
   "display_name": "Python 3.8.10 64-bit",
   "language": "python",
   "name": "python3"
  },
  "language_info": {
   "codemirror_mode": {
    "name": "ipython",
    "version": 3
   },
   "file_extension": ".py",
   "mimetype": "text/x-python",
   "name": "python",
   "nbconvert_exporter": "python",
   "pygments_lexer": "ipython3",
   "version": "3.8.10"
  },
  "orig_nbformat": 4
 },
 "nbformat": 4,
 "nbformat_minor": 2
}

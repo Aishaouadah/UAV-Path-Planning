{
 "cells": [
  {
   "cell_type": "markdown",
   "metadata": {},
   "source": [
    "# Solving TSP using GA"
   ]
  },
  {
   "cell_type": "code",
   "execution_count": 12,
   "metadata": {},
   "outputs": [],
   "source": [
    "# reading file input\n",
    "import random \n",
    "import math\n",
    "file = open(\"tsphcp/SH_64.hcp\" , \"r\")\n",
    "lines = file.readlines()\n",
    "# 4th line = number of nodes\n",
    "nodes = lines[3].split()[-1]\n",
    "# 7th line = First arc  "
   ]
  },
  {
   "cell_type": "code",
   "execution_count": 13,
   "metadata": {},
   "outputs": [],
   "source": [
    "'''Fitness function: function that evaluate a solution\n",
    "    in TSP the Fitness function is the path length  '''\n",
    "    #soltuion = \"014523\"\n",
    "    #fitness = length(0,1)+length(1,4)+length(4,5)+length(5,2)+length(2,3)\n",
    "\n",
    "def length(node1, node2):\n",
    "    return math.sqrt((node1.x - node2.x)**2 + (node1.y - node2.y)**2)\n",
    "def fitness(solution):\n",
    "    f=0\n",
    "    l=len(solution)\n",
    "    for i in range(l-1):\n",
    "        f+=length(solution[i], solution[i+1])\n",
    "    return f"
   ]
  },
  {
   "cell_type": "markdown",
   "metadata": {},
   "source": [
    "#### 1-Randomly initialize populations p"
   ]
  },
  {
   "cell_type": "code",
   "execution_count": null,
   "metadata": {},
   "outputs": [],
   "source": [
    "#Parameters :\n",
    "population_size = 20\n",
    "chromosome_size = 20\n",
    "mutation_proba = 0.5\n",
    "crossover_proba = \"NA\"\n",
    "selection_operator = \"Roulette_wheel_operator\"\n",
    "crossover_operator = \"Singlepoint crossover\"\n",
    "mutation_operator = \"Flip/swap bit\"\n",
    "\n",
    "def initial_population():\n",
    "    for _ in range(1, population_size+1):\n",
    "        generatePossiblePath()\n",
    "\n",
    "\n",
    "def generatePossiblePath():\n",
    "    print(\"possible path\")        "
   ]
  },
  {
   "cell_type": "markdown",
   "metadata": {},
   "source": [
    "#### 2-Determine fitness of population"
   ]
  },
  {
   "cell_type": "code",
   "execution_count": null,
   "metadata": {},
   "outputs": [],
   "source": [
    "def determine_pop_fitness():\n",
    "    fitness_table = []\n",
    "    return fitness_table"
   ]
  },
  {
   "cell_type": "code",
   "execution_count": null,
   "metadata": {},
   "outputs": [],
   "source": [
    "def crossover():\n",
    "    print(\"crossover done\")"
   ]
  },
  {
   "cell_type": "code",
   "execution_count": null,
   "metadata": {},
   "outputs": [],
   "source": [
    "def mutation():\n",
    "    print(\"mutation done\")"
   ]
  },
  {
   "cell_type": "markdown",
   "metadata": {},
   "source": [
    "#### 3-Until convergence repeat:\n",
    "      a) Select parents from population\n",
    "      b) Crossover and generate new population\n",
    "      c) Perform mutation on new population\n",
    "      d) Calculate fitness for new population"
   ]
  }
 ],
 "metadata": {
  "interpreter": {
   "hash": "916dbcbb3f70747c44a77c7bcd40155683ae19c65e1c03b4aa3499c5328201f1"
  },
  "kernelspec": {
   "display_name": "Python 3.8.10 64-bit",
   "language": "python",
   "name": "python3"
  },
  "language_info": {
   "codemirror_mode": {
    "name": "ipython",
    "version": 3
   },
   "file_extension": ".py",
   "mimetype": "text/x-python",
   "name": "python",
   "nbconvert_exporter": "python",
   "pygments_lexer": "ipython3",
   "version": "3.8.10"
  },
  "orig_nbformat": 4
 },
 "nbformat": 4,
 "nbformat_minor": 2
}
